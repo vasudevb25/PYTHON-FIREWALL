{
 "cells": [
  {
   "cell_type": "markdown",
   "metadata": {},
   "source": [
    "FIREWALL"
   ]
  },
  {
   "cell_type": "markdown",
   "metadata": {},
   "source": [
    "In this project, I build a Python script designed to monitor network traffic and detect potential\n",
    " Denial of Service attacks by analyzing the rate at which IP packets are sent. \n",
    "\n",
    "If the rate exceeds a predefined threshold which we can set, then the script will block the \n",
    "IP address, mitigating the impact of the attack. \n",
    "\n",
    "In this script I'll also introduce you to the Scapy library, a powerful network manipulation tool,\n",
    " to sniff and analyze network packets.'''\n",
    "\n",
    "\n",
    "why root access is required beacuse:\n",
    "    #1.To access raw network traffic\n",
    "    #2.To modify systems firewall to block an ip"
   ]
  },
  {
   "cell_type": "markdown",
   "metadata": {},
   "source": []
  },
  {
   "cell_type": "code",
   "execution_count": null,
   "metadata": {},
   "outputs": [],
   "source": [
    "# Modules\n",
    "import os #to interact with the os\n",
    "import sys #handles system specific operations,e.g executing a script\n",
    "import time #track time interval : to determine the transfer rates for packets\n",
    "from collections import defaultdict #used to store and manage packet counts for each ip_addes\n",
    "from scapy.all import sniff,IP,TCP #allows us to analyse network packets\n",
    "import ctypes\n",
    "import platform"
   ]
  },
  {
   "cell_type": "code",
   "execution_count": null,
   "metadata": {},
   "outputs": [],
   "source": [
    "# Specify the maximum packet load rate per second for an IP address\n",
    "threshold = 1  # Change to 1 for testing purposes\n",
    "print(f\"THRESHOLD: {threshold} packets/sec\")"
   ]
  },
  {
   "cell_type": "code",
   "execution_count": null,
   "metadata": {},
   "outputs": [],
   "source": [
    "# NIMDA fn :used to check nimda worm signature\n",
    "def is_nimda_worm(packet):\n",
    "    # check if the packet has a TCP LAYER & the destination port=80[http]\n",
    "    if packet.haslayer(TCP) and packet[TCP].dport == 80:\n",
    "        payload = packet[TCP].payload\n",
    "        # Convert payload to a string and check for different variants of Nimda-like signatures\n",
    "        payload_str = str(payload).lower()\n",
    "        if \"get /scripts/root.exe\" in payload_str or \"get /msadc/root.exe\" in payload_str or \"get /c/winnt/system32/cmd.exe\" in payload_str:\n",
    "            return True\n",
    "    return False"
   ]
  },
  {
   "cell_type": "code",
   "execution_count": null,
   "metadata": {},
   "outputs": [],
   "source": [
    "# For appending ips into files [whitelist & blacklist]\n",
    "def add_to_file(filename, content):\n",
    "    try:\n",
    "        with open(filename, 'a') as file:\n",
    "            file.write(content)\n",
    "    except Exception as e:\n",
    "        print(f\"An error occurred in listing: {e}\")"
   ]
  },
  {
   "cell_type": "code",
   "execution_count": null,
   "metadata": {},
   "outputs": [],
   "source": [
    "# Log events to a file\n",
    "def log_event(message):\n",
    "    log_folder = \"logs\"\n",
    "    os.makedirs(log_folder, exist_ok=True)\n",
    "    timestamp = time.strftime(\"%Y-%m-%d_%H-%M-%S\", time.localtime())\n",
    "    log_file = os.path.join(log_folder, f\"log_{timestamp}.txt\")\n",
    "    \n",
    "    with open(log_file, \"a\") as file:\n",
    "        file.write(f\"{message}\\n\")"
   ]
  },
  {
   "cell_type": "code",
   "execution_count": null,
   "metadata": {},
   "outputs": [],
   "source": [
    "# If root access is enabled in Windows\n",
    "def is_admin():\n",
    "    try:\n",
    "        return ctypes.windll.shell32.IsUserAnAdmin()\n",
    "    except:\n",
    "        return False"
   ]
  },
  {
   "cell_type": "code",
   "execution_count": null,
   "metadata": {},
   "outputs": [],
   "source": [
    "# BLOCKING IP IN [WINDOWS/LINUX]\n",
    "def block_ip(ip):\n",
    "    \"\"\"Blocks an IP address using the appropriate method for the platform.\"\"\"\n",
    "    if platform.system() == \"Windows\":\n",
    "        # Windows Firewall block command (example, use PowerShell or netsh for precise rules)\n",
    "        os.system(f\"netsh advfirewall firewall add rule name=\\\"Block {ip}\\\" dir=in action=block remoteip={ip}\")\n",
    "    else:\n",
    "        # Linux: block the IP with iptables\n",
    "        os.system(f\"iptables -A INPUT -s {ip} -j DROP\")"
   ]
  },
  {
   "cell_type": "code",
   "execution_count": null,
   "metadata": {},
   "outputs": [],
   "source": [
    "# Packet Callback\n",
    "def packet_callback(packet):\n",
    "    src_ip = packet[IP].src\n",
    "    packet_count[src_ip] += 1\n",
    "    current_time = time.time()\n",
    "    time_interval = current_time - start_time[0]\n",
    "\n",
    "    # Check for Nimda worm signature\n",
    "    if is_nimda_worm(packet):\n",
    "        print(f\"Blocking Nimda source IP: {src_ip}\")\n",
    "        block_ip(src_ip)\n",
    "        log_event(f\"Blocking Nimda source IP: {src_ip}\")\n",
    "        if src_ip not in blacklist_ips:\n",
    "            write_ip_to_file(BLACKLIST_FILE, src_ip)  # Add the IP to the blacklist file\n",
    "            blacklist_ips.add(src_ip)  # Add to the set to avoid re-blocking\n",
    "        return\n",
    "    \n",
    "    # Check if a DoS attack is happening every 0.5 seconds\n",
    "    if time_interval >= 0.5:\n",
    "        for ip, count in packet_count.items():\n",
    "            packet_rate = count / time_interval\n",
    "            '''print(f\"IP: {ip}, Packet Rate: {packet_rate:.2f} packets/sec\")'''\n",
    "            if packet_rate > threshold and ip not in blocked_ips:\n",
    "                print(f\"Blocking IP: {ip}, Packet Rate: {packet_rate:.2f}\")\n",
    "                block_ip(ip)\n",
    "                log_event(f\"Blocking IP: {ip}, packet rate: {packet_rate}\")\n",
    "                blocked_ips.add(ip)\n",
    "\n",
    "\n",
    "        # Keep the counts for slightly longer to catch fast spikes\n",
    "        packet_count.clear()\n",
    "        start_time[0] = current_time"
   ]
  },
  {
   "cell_type": "code",
   "execution_count": null,
   "metadata": {},
   "outputs": [],
   "source": [
    "if __name__ == \"__main__\":\n",
    "    # Check for root/admin privileges\n",
    "    if platform.system() == \"Windows\":\n",
    "        if not is_admin():\n",
    "            print(\"You need to run this script as an administrator.\")\n",
    "            exit(1)\n",
    "    else:\n",
    "        if os.geteuid() != 0:\n",
    "            print(\"You need to run this script as root.\")\n",
    "            exit(1)\n",
    "    \n",
    "    # Initialize packet tracking data\n",
    "    packet_count = defaultdict(int)\n",
    "    start_time = [time.time()]\n",
    "    blocked_ips = set()\n",
    "\n",
    "\n",
    "\n",
    "    print(\"Monitoring network traffic...\")\n",
    "    \n",
    "    # Start sniffing packets and analyzing them\n",
    "    try:\n",
    "        sniff(filter=\"ip\", prn=packet_callback)\n",
    "    except KeyboardInterrupt:\n",
    "        print(\"\\nMonitoring stopped.\")\n",
    "    except Exception as e:\n",
    "        print(f\"An error occurred: {e}\")"
   ]
  }
 ],
 "metadata": {
  "language_info": {
   "name": "python"
  }
 },
 "nbformat": 4,
 "nbformat_minor": 2
}
